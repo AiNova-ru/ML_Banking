{
 "cells": [
  {
   "cell_type": "code",
   "execution_count": 3,
   "id": "291324e9",
   "metadata": {},
   "outputs": [],
   "source": [
    "import pandas as pd\n",
    "from sklearn import metrics\n",
    "from sklearn.model_selection import train_test_split\n",
    "from sklearn.metrics import recall_score, accuracy_score, confusion_matrix, classification_report\n",
    "from sklearn.tree import DecisionTreeClassifier\n",
    "from imblearn.combine import SMOTEENN"
   ]
  },
  {
   "cell_type": "code",
   "execution_count": null,
   "id": "29009d1a",
   "metadata": {},
   "outputs": [],
   "source": [
    "#pip install imblearn"
   ]
  },
  {
   "cell_type": "code",
   "execution_count": 4,
   "id": "2f1e79cb",
   "metadata": {},
   "outputs": [],
   "source": [
    "pd.set_option('display.max_columns', None)       # shows all cols / rows\n",
    "pd.set_option('display.max_rows', None)"
   ]
  },
  {
   "cell_type": "code",
   "execution_count": 5,
   "id": "0ef14915",
   "metadata": {},
   "outputs": [
    {
     "data": {
      "text/html": [
       "<div>\n",
       "<style scoped>\n",
       "    .dataframe tbody tr th:only-of-type {\n",
       "        vertical-align: middle;\n",
       "    }\n",
       "\n",
       "    .dataframe tbody tr th {\n",
       "        vertical-align: top;\n",
       "    }\n",
       "\n",
       "    .dataframe thead th {\n",
       "        text-align: right;\n",
       "    }\n",
       "</style>\n",
       "<table border=\"1\" class=\"dataframe\">\n",
       "  <thead>\n",
       "    <tr style=\"text-align: right;\">\n",
       "      <th></th>\n",
       "      <th>Unnamed: 0</th>\n",
       "      <th>Age</th>\n",
       "      <th>Estimated Income</th>\n",
       "      <th>Superannuation Savings</th>\n",
       "      <th>Amount of Credit Cards</th>\n",
       "      <th>Credit Card Balance</th>\n",
       "      <th>Bank Loans</th>\n",
       "      <th>Bank Deposits</th>\n",
       "      <th>Checking Accounts</th>\n",
       "      <th>Saving Accounts</th>\n",
       "      <th>Foreign Currency Account</th>\n",
       "      <th>Business Lending</th>\n",
       "      <th>Properties Owned</th>\n",
       "      <th>Risk Weighting</th>\n",
       "      <th>BRId</th>\n",
       "      <th>GenderId</th>\n",
       "      <th>IAId</th>\n",
       "      <th>Nationality_African</th>\n",
       "      <th>Nationality_American</th>\n",
       "      <th>Nationality_Asian</th>\n",
       "      <th>Nationality_Australian</th>\n",
       "      <th>Nationality_European</th>\n",
       "      <th>Fee Structure_High</th>\n",
       "      <th>Fee Structure_Low</th>\n",
       "      <th>Fee Structure_Mid</th>\n",
       "      <th>Loyalty Classification_Gold</th>\n",
       "      <th>Loyalty Classification_Jade</th>\n",
       "      <th>Loyalty Classification_Platinum</th>\n",
       "      <th>Loyalty Classification_Silver</th>\n",
       "      <th>Income Band_Low</th>\n",
       "      <th>Income Band_Mid</th>\n",
       "      <th>Income Band_High</th>\n",
       "    </tr>\n",
       "  </thead>\n",
       "  <tbody>\n",
       "    <tr>\n",
       "      <th>0</th>\n",
       "      <td>0</td>\n",
       "      <td>24</td>\n",
       "      <td>75384.77</td>\n",
       "      <td>17677.95</td>\n",
       "      <td>1</td>\n",
       "      <td>484.54</td>\n",
       "      <td>776242.92</td>\n",
       "      <td>1485828.64</td>\n",
       "      <td>603617.88</td>\n",
       "      <td>607332.46</td>\n",
       "      <td>12249.96</td>\n",
       "      <td>1134475.30</td>\n",
       "      <td>1</td>\n",
       "      <td>2</td>\n",
       "      <td>1</td>\n",
       "      <td>1</td>\n",
       "      <td>1</td>\n",
       "      <td>0</td>\n",
       "      <td>1</td>\n",
       "      <td>0</td>\n",
       "      <td>0</td>\n",
       "      <td>0</td>\n",
       "      <td>1</td>\n",
       "      <td>0</td>\n",
       "      <td>0</td>\n",
       "      <td>0</td>\n",
       "      <td>1</td>\n",
       "      <td>0</td>\n",
       "      <td>0</td>\n",
       "      <td>1</td>\n",
       "      <td>0</td>\n",
       "      <td>0</td>\n",
       "    </tr>\n",
       "    <tr>\n",
       "      <th>1</th>\n",
       "      <td>1</td>\n",
       "      <td>23</td>\n",
       "      <td>289834.31</td>\n",
       "      <td>17398.92</td>\n",
       "      <td>1</td>\n",
       "      <td>2256.88</td>\n",
       "      <td>1270615.43</td>\n",
       "      <td>641482.79</td>\n",
       "      <td>229521.37</td>\n",
       "      <td>344635.16</td>\n",
       "      <td>61162.31</td>\n",
       "      <td>2000526.10</td>\n",
       "      <td>1</td>\n",
       "      <td>3</td>\n",
       "      <td>2</td>\n",
       "      <td>1</td>\n",
       "      <td>2</td>\n",
       "      <td>1</td>\n",
       "      <td>0</td>\n",
       "      <td>0</td>\n",
       "      <td>0</td>\n",
       "      <td>0</td>\n",
       "      <td>1</td>\n",
       "      <td>0</td>\n",
       "      <td>0</td>\n",
       "      <td>0</td>\n",
       "      <td>1</td>\n",
       "      <td>0</td>\n",
       "      <td>0</td>\n",
       "      <td>0</td>\n",
       "      <td>1</td>\n",
       "      <td>0</td>\n",
       "    </tr>\n",
       "    <tr>\n",
       "      <th>2</th>\n",
       "      <td>2</td>\n",
       "      <td>27</td>\n",
       "      <td>169935.23</td>\n",
       "      <td>42825.90</td>\n",
       "      <td>2</td>\n",
       "      <td>4568.74</td>\n",
       "      <td>1052715.84</td>\n",
       "      <td>1033401.59</td>\n",
       "      <td>652674.69</td>\n",
       "      <td>203054.35</td>\n",
       "      <td>79071.78</td>\n",
       "      <td>548137.58</td>\n",
       "      <td>1</td>\n",
       "      <td>3</td>\n",
       "      <td>3</td>\n",
       "      <td>2</td>\n",
       "      <td>3</td>\n",
       "      <td>0</td>\n",
       "      <td>0</td>\n",
       "      <td>0</td>\n",
       "      <td>0</td>\n",
       "      <td>1</td>\n",
       "      <td>1</td>\n",
       "      <td>0</td>\n",
       "      <td>0</td>\n",
       "      <td>1</td>\n",
       "      <td>0</td>\n",
       "      <td>0</td>\n",
       "      <td>0</td>\n",
       "      <td>0</td>\n",
       "      <td>1</td>\n",
       "      <td>0</td>\n",
       "    </tr>\n",
       "    <tr>\n",
       "      <th>3</th>\n",
       "      <td>3</td>\n",
       "      <td>40</td>\n",
       "      <td>356808.11</td>\n",
       "      <td>5473.15</td>\n",
       "      <td>2</td>\n",
       "      <td>4205.00</td>\n",
       "      <td>121195.06</td>\n",
       "      <td>1048157.49</td>\n",
       "      <td>1048157.49</td>\n",
       "      <td>234685.02</td>\n",
       "      <td>57513.65</td>\n",
       "      <td>1148402.29</td>\n",
       "      <td>0</td>\n",
       "      <td>4</td>\n",
       "      <td>4</td>\n",
       "      <td>1</td>\n",
       "      <td>4</td>\n",
       "      <td>0</td>\n",
       "      <td>1</td>\n",
       "      <td>0</td>\n",
       "      <td>0</td>\n",
       "      <td>0</td>\n",
       "      <td>0</td>\n",
       "      <td>0</td>\n",
       "      <td>1</td>\n",
       "      <td>0</td>\n",
       "      <td>0</td>\n",
       "      <td>0</td>\n",
       "      <td>1</td>\n",
       "      <td>0</td>\n",
       "      <td>0</td>\n",
       "      <td>1</td>\n",
       "    </tr>\n",
       "    <tr>\n",
       "      <th>4</th>\n",
       "      <td>4</td>\n",
       "      <td>46</td>\n",
       "      <td>130711.68</td>\n",
       "      <td>48077.60</td>\n",
       "      <td>1</td>\n",
       "      <td>3779.49</td>\n",
       "      <td>1048301.95</td>\n",
       "      <td>487782.53</td>\n",
       "      <td>446644.25</td>\n",
       "      <td>128351.45</td>\n",
       "      <td>30012.14</td>\n",
       "      <td>1674412.12</td>\n",
       "      <td>0</td>\n",
       "      <td>3</td>\n",
       "      <td>1</td>\n",
       "      <td>2</td>\n",
       "      <td>5</td>\n",
       "      <td>0</td>\n",
       "      <td>1</td>\n",
       "      <td>0</td>\n",
       "      <td>0</td>\n",
       "      <td>0</td>\n",
       "      <td>0</td>\n",
       "      <td>0</td>\n",
       "      <td>1</td>\n",
       "      <td>0</td>\n",
       "      <td>0</td>\n",
       "      <td>1</td>\n",
       "      <td>0</td>\n",
       "      <td>0</td>\n",
       "      <td>1</td>\n",
       "      <td>0</td>\n",
       "    </tr>\n",
       "  </tbody>\n",
       "</table>\n",
       "</div>"
      ],
      "text/plain": [
       "   Unnamed: 0  Age  Estimated Income  Superannuation Savings  \\\n",
       "0           0   24          75384.77                17677.95   \n",
       "1           1   23         289834.31                17398.92   \n",
       "2           2   27         169935.23                42825.90   \n",
       "3           3   40         356808.11                 5473.15   \n",
       "4           4   46         130711.68                48077.60   \n",
       "\n",
       "   Amount of Credit Cards  Credit Card Balance  Bank Loans  Bank Deposits  \\\n",
       "0                       1               484.54   776242.92     1485828.64   \n",
       "1                       1              2256.88  1270615.43      641482.79   \n",
       "2                       2              4568.74  1052715.84     1033401.59   \n",
       "3                       2              4205.00   121195.06     1048157.49   \n",
       "4                       1              3779.49  1048301.95      487782.53   \n",
       "\n",
       "   Checking Accounts  Saving Accounts  Foreign Currency Account  \\\n",
       "0          603617.88        607332.46                  12249.96   \n",
       "1          229521.37        344635.16                  61162.31   \n",
       "2          652674.69        203054.35                  79071.78   \n",
       "3         1048157.49        234685.02                  57513.65   \n",
       "4          446644.25        128351.45                  30012.14   \n",
       "\n",
       "   Business Lending  Properties Owned  Risk Weighting  BRId  GenderId  IAId  \\\n",
       "0        1134475.30                 1               2     1         1     1   \n",
       "1        2000526.10                 1               3     2         1     2   \n",
       "2         548137.58                 1               3     3         2     3   \n",
       "3        1148402.29                 0               4     4         1     4   \n",
       "4        1674412.12                 0               3     1         2     5   \n",
       "\n",
       "   Nationality_African  Nationality_American  Nationality_Asian  \\\n",
       "0                    0                     1                  0   \n",
       "1                    1                     0                  0   \n",
       "2                    0                     0                  0   \n",
       "3                    0                     1                  0   \n",
       "4                    0                     1                  0   \n",
       "\n",
       "   Nationality_Australian  Nationality_European  Fee Structure_High  \\\n",
       "0                       0                     0                   1   \n",
       "1                       0                     0                   1   \n",
       "2                       0                     1                   1   \n",
       "3                       0                     0                   0   \n",
       "4                       0                     0                   0   \n",
       "\n",
       "   Fee Structure_Low  Fee Structure_Mid  Loyalty Classification_Gold  \\\n",
       "0                  0                  0                            0   \n",
       "1                  0                  0                            0   \n",
       "2                  0                  0                            1   \n",
       "3                  0                  1                            0   \n",
       "4                  0                  1                            0   \n",
       "\n",
       "   Loyalty Classification_Jade  Loyalty Classification_Platinum  \\\n",
       "0                            1                                0   \n",
       "1                            1                                0   \n",
       "2                            0                                0   \n",
       "3                            0                                0   \n",
       "4                            0                                1   \n",
       "\n",
       "   Loyalty Classification_Silver  Income Band_Low  Income Band_Mid  \\\n",
       "0                              0                1                0   \n",
       "1                              0                0                1   \n",
       "2                              0                0                1   \n",
       "3                              1                0                0   \n",
       "4                              0                0                1   \n",
       "\n",
       "   Income Band_High  \n",
       "0                 0  \n",
       "1                 0  \n",
       "2                 0  \n",
       "3                 1  \n",
       "4                 0  "
      ]
     },
     "execution_count": 5,
     "metadata": {},
     "output_type": "execute_result"
    }
   ],
   "source": [
    "df = pd.read_csv('fin_risk_data.csv')\n",
    "df.head()"
   ]
  },
  {
   "cell_type": "code",
   "execution_count": 6,
   "id": "b14ccc61",
   "metadata": {
    "scrolled": true
   },
   "outputs": [],
   "source": [
    "df = df.drop('Unnamed: 0', axis=1)"
   ]
  },
  {
   "cell_type": "code",
   "execution_count": 6,
   "id": "83d8861c",
   "metadata": {
    "scrolled": true
   },
   "outputs": [
    {
     "data": {
      "text/html": [
       "<div>\n",
       "<style scoped>\n",
       "    .dataframe tbody tr th:only-of-type {\n",
       "        vertical-align: middle;\n",
       "    }\n",
       "\n",
       "    .dataframe tbody tr th {\n",
       "        vertical-align: top;\n",
       "    }\n",
       "\n",
       "    .dataframe thead th {\n",
       "        text-align: right;\n",
       "    }\n",
       "</style>\n",
       "<table border=\"1\" class=\"dataframe\">\n",
       "  <thead>\n",
       "    <tr style=\"text-align: right;\">\n",
       "      <th></th>\n",
       "      <th>Age</th>\n",
       "      <th>Estimated Income</th>\n",
       "      <th>Superannuation Savings</th>\n",
       "      <th>Amount of Credit Cards</th>\n",
       "      <th>Credit Card Balance</th>\n",
       "      <th>Bank Loans</th>\n",
       "      <th>Bank Deposits</th>\n",
       "      <th>Checking Accounts</th>\n",
       "      <th>Saving Accounts</th>\n",
       "      <th>Foreign Currency Account</th>\n",
       "      <th>Business Lending</th>\n",
       "      <th>Properties Owned</th>\n",
       "      <th>Risk Weighting</th>\n",
       "      <th>BRId</th>\n",
       "      <th>GenderId</th>\n",
       "      <th>IAId</th>\n",
       "      <th>Nationality_African</th>\n",
       "      <th>Nationality_American</th>\n",
       "      <th>Nationality_Asian</th>\n",
       "      <th>Nationality_Australian</th>\n",
       "      <th>Nationality_European</th>\n",
       "      <th>Fee Structure_High</th>\n",
       "      <th>Fee Structure_Low</th>\n",
       "      <th>Fee Structure_Mid</th>\n",
       "      <th>Loyalty Classification_Gold</th>\n",
       "      <th>Loyalty Classification_Jade</th>\n",
       "      <th>Loyalty Classification_Platinum</th>\n",
       "      <th>Loyalty Classification_Silver</th>\n",
       "      <th>Income Band_Low</th>\n",
       "      <th>Income Band_Mid</th>\n",
       "      <th>Income Band_High</th>\n",
       "    </tr>\n",
       "  </thead>\n",
       "  <tbody>\n",
       "    <tr>\n",
       "      <th>0</th>\n",
       "      <td>24</td>\n",
       "      <td>75384.77</td>\n",
       "      <td>17677.95</td>\n",
       "      <td>1</td>\n",
       "      <td>484.54</td>\n",
       "      <td>776242.92</td>\n",
       "      <td>1485828.64</td>\n",
       "      <td>603617.88</td>\n",
       "      <td>607332.46</td>\n",
       "      <td>12249.96</td>\n",
       "      <td>1134475.3</td>\n",
       "      <td>1</td>\n",
       "      <td>2</td>\n",
       "      <td>1</td>\n",
       "      <td>1</td>\n",
       "      <td>1</td>\n",
       "      <td>0</td>\n",
       "      <td>1</td>\n",
       "      <td>0</td>\n",
       "      <td>0</td>\n",
       "      <td>0</td>\n",
       "      <td>1</td>\n",
       "      <td>0</td>\n",
       "      <td>0</td>\n",
       "      <td>0</td>\n",
       "      <td>1</td>\n",
       "      <td>0</td>\n",
       "      <td>0</td>\n",
       "      <td>1</td>\n",
       "      <td>0</td>\n",
       "      <td>0</td>\n",
       "    </tr>\n",
       "    <tr>\n",
       "      <th>1</th>\n",
       "      <td>23</td>\n",
       "      <td>289834.31</td>\n",
       "      <td>17398.92</td>\n",
       "      <td>1</td>\n",
       "      <td>2256.88</td>\n",
       "      <td>1270615.43</td>\n",
       "      <td>641482.79</td>\n",
       "      <td>229521.37</td>\n",
       "      <td>344635.16</td>\n",
       "      <td>61162.31</td>\n",
       "      <td>2000526.1</td>\n",
       "      <td>1</td>\n",
       "      <td>3</td>\n",
       "      <td>2</td>\n",
       "      <td>1</td>\n",
       "      <td>2</td>\n",
       "      <td>1</td>\n",
       "      <td>0</td>\n",
       "      <td>0</td>\n",
       "      <td>0</td>\n",
       "      <td>0</td>\n",
       "      <td>1</td>\n",
       "      <td>0</td>\n",
       "      <td>0</td>\n",
       "      <td>0</td>\n",
       "      <td>1</td>\n",
       "      <td>0</td>\n",
       "      <td>0</td>\n",
       "      <td>0</td>\n",
       "      <td>1</td>\n",
       "      <td>0</td>\n",
       "    </tr>\n",
       "  </tbody>\n",
       "</table>\n",
       "</div>"
      ],
      "text/plain": [
       "   Age  Estimated Income  Superannuation Savings  Amount of Credit Cards  \\\n",
       "0   24          75384.77                17677.95                       1   \n",
       "1   23         289834.31                17398.92                       1   \n",
       "\n",
       "   Credit Card Balance  Bank Loans  Bank Deposits  Checking Accounts  \\\n",
       "0               484.54   776242.92     1485828.64          603617.88   \n",
       "1              2256.88  1270615.43      641482.79          229521.37   \n",
       "\n",
       "   Saving Accounts  Foreign Currency Account  Business Lending  \\\n",
       "0        607332.46                  12249.96         1134475.3   \n",
       "1        344635.16                  61162.31         2000526.1   \n",
       "\n",
       "   Properties Owned  Risk Weighting  BRId  GenderId  IAId  \\\n",
       "0                 1               2     1         1     1   \n",
       "1                 1               3     2         1     2   \n",
       "\n",
       "   Nationality_African  Nationality_American  Nationality_Asian  \\\n",
       "0                    0                     1                  0   \n",
       "1                    1                     0                  0   \n",
       "\n",
       "   Nationality_Australian  Nationality_European  Fee Structure_High  \\\n",
       "0                       0                     0                   1   \n",
       "1                       0                     0                   1   \n",
       "\n",
       "   Fee Structure_Low  Fee Structure_Mid  Loyalty Classification_Gold  \\\n",
       "0                  0                  0                            0   \n",
       "1                  0                  0                            0   \n",
       "\n",
       "   Loyalty Classification_Jade  Loyalty Classification_Platinum  \\\n",
       "0                            1                                0   \n",
       "1                            1                                0   \n",
       "\n",
       "   Loyalty Classification_Silver  Income Band_Low  Income Band_Mid  \\\n",
       "0                              0                1                0   \n",
       "1                              0                0                1   \n",
       "\n",
       "   Income Band_High  \n",
       "0                 0  \n",
       "1                 0  "
      ]
     },
     "execution_count": 6,
     "metadata": {},
     "output_type": "execute_result"
    }
   ],
   "source": [
    "df.head(2)"
   ]
  },
  {
   "cell_type": "code",
   "execution_count": 7,
   "id": "1b2cd470",
   "metadata": {
    "scrolled": true
   },
   "outputs": [
    {
     "data": {
      "text/plain": [
       "2    1222\n",
       "1     836\n",
       "3     460\n",
       "4     322\n",
       "5     160\n",
       "Name: Risk Weighting, dtype: int64"
      ]
     },
     "execution_count": 7,
     "metadata": {},
     "output_type": "execute_result"
    }
   ],
   "source": [
    "df['Risk Weighting'].value_counts()"
   ]
  },
  {
   "cell_type": "code",
   "execution_count": 8,
   "id": "28a63226",
   "metadata": {},
   "outputs": [
    {
     "name": "stdout",
     "output_type": "stream",
     "text": [
      "<class 'pandas.core.frame.DataFrame'>\n",
      "RangeIndex: 3000 entries, 0 to 2999\n",
      "Data columns (total 31 columns):\n",
      " #   Column                           Non-Null Count  Dtype  \n",
      "---  ------                           --------------  -----  \n",
      " 0   Age                              3000 non-null   int64  \n",
      " 1   Estimated Income                 3000 non-null   float64\n",
      " 2   Superannuation Savings           3000 non-null   float64\n",
      " 3   Amount of Credit Cards           3000 non-null   int64  \n",
      " 4   Credit Card Balance              3000 non-null   float64\n",
      " 5   Bank Loans                       3000 non-null   float64\n",
      " 6   Bank Deposits                    3000 non-null   float64\n",
      " 7   Checking Accounts                3000 non-null   float64\n",
      " 8   Saving Accounts                  3000 non-null   float64\n",
      " 9   Foreign Currency Account         3000 non-null   float64\n",
      " 10  Business Lending                 3000 non-null   float64\n",
      " 11  Properties Owned                 3000 non-null   int64  \n",
      " 12  Risk Weighting                   3000 non-null   int64  \n",
      " 13  BRId                             3000 non-null   int64  \n",
      " 14  GenderId                         3000 non-null   int64  \n",
      " 15  IAId                             3000 non-null   int64  \n",
      " 16  Nationality_African              3000 non-null   int64  \n",
      " 17  Nationality_American             3000 non-null   int64  \n",
      " 18  Nationality_Asian                3000 non-null   int64  \n",
      " 19  Nationality_Australian           3000 non-null   int64  \n",
      " 20  Nationality_European             3000 non-null   int64  \n",
      " 21  Fee Structure_High               3000 non-null   int64  \n",
      " 22  Fee Structure_Low                3000 non-null   int64  \n",
      " 23  Fee Structure_Mid                3000 non-null   int64  \n",
      " 24  Loyalty Classification_Gold      3000 non-null   int64  \n",
      " 25  Loyalty Classification_Jade      3000 non-null   int64  \n",
      " 26  Loyalty Classification_Platinum  3000 non-null   int64  \n",
      " 27  Loyalty Classification_Silver    3000 non-null   int64  \n",
      " 28  Income Band_Low                  3000 non-null   int64  \n",
      " 29  Income Band_Mid                  3000 non-null   int64  \n",
      " 30  Income Band_High                 3000 non-null   int64  \n",
      "dtypes: float64(9), int64(22)\n",
      "memory usage: 726.7 KB\n"
     ]
    }
   ],
   "source": [
    "df.info()"
   ]
  },
  {
   "cell_type": "code",
   "execution_count": 9,
   "id": "3723996a",
   "metadata": {},
   "outputs": [
    {
     "data": {
      "text/plain": [
       "(3000, 31)"
      ]
     },
     "execution_count": 9,
     "metadata": {},
     "output_type": "execute_result"
    }
   ],
   "source": [
    "df.shape"
   ]
  },
  {
   "cell_type": "code",
   "execution_count": 10,
   "id": "68833bd9",
   "metadata": {},
   "outputs": [
    {
     "data": {
      "text/html": [
       "<div>\n",
       "<style scoped>\n",
       "    .dataframe tbody tr th:only-of-type {\n",
       "        vertical-align: middle;\n",
       "    }\n",
       "\n",
       "    .dataframe tbody tr th {\n",
       "        vertical-align: top;\n",
       "    }\n",
       "\n",
       "    .dataframe thead th {\n",
       "        text-align: right;\n",
       "    }\n",
       "</style>\n",
       "<table border=\"1\" class=\"dataframe\">\n",
       "  <thead>\n",
       "    <tr style=\"text-align: right;\">\n",
       "      <th></th>\n",
       "      <th>Age</th>\n",
       "      <th>Estimated Income</th>\n",
       "      <th>Superannuation Savings</th>\n",
       "      <th>Amount of Credit Cards</th>\n",
       "      <th>Credit Card Balance</th>\n",
       "      <th>Bank Loans</th>\n",
       "      <th>Bank Deposits</th>\n",
       "      <th>Checking Accounts</th>\n",
       "      <th>Saving Accounts</th>\n",
       "      <th>Foreign Currency Account</th>\n",
       "      <th>Business Lending</th>\n",
       "      <th>Properties Owned</th>\n",
       "      <th>BRId</th>\n",
       "      <th>GenderId</th>\n",
       "      <th>IAId</th>\n",
       "      <th>Nationality_African</th>\n",
       "      <th>Nationality_American</th>\n",
       "      <th>Nationality_Asian</th>\n",
       "      <th>Nationality_Australian</th>\n",
       "      <th>Nationality_European</th>\n",
       "      <th>Fee Structure_High</th>\n",
       "      <th>Fee Structure_Low</th>\n",
       "      <th>Fee Structure_Mid</th>\n",
       "      <th>Loyalty Classification_Gold</th>\n",
       "      <th>Loyalty Classification_Jade</th>\n",
       "      <th>Loyalty Classification_Platinum</th>\n",
       "      <th>Loyalty Classification_Silver</th>\n",
       "      <th>Income Band_Low</th>\n",
       "      <th>Income Band_Mid</th>\n",
       "      <th>Income Band_High</th>\n",
       "    </tr>\n",
       "  </thead>\n",
       "  <tbody>\n",
       "    <tr>\n",
       "      <th>0</th>\n",
       "      <td>24</td>\n",
       "      <td>75384.77</td>\n",
       "      <td>17677.95</td>\n",
       "      <td>1</td>\n",
       "      <td>484.54</td>\n",
       "      <td>776242.92</td>\n",
       "      <td>1485828.64</td>\n",
       "      <td>603617.88</td>\n",
       "      <td>607332.46</td>\n",
       "      <td>12249.96</td>\n",
       "      <td>1134475.30</td>\n",
       "      <td>1</td>\n",
       "      <td>1</td>\n",
       "      <td>1</td>\n",
       "      <td>1</td>\n",
       "      <td>0</td>\n",
       "      <td>1</td>\n",
       "      <td>0</td>\n",
       "      <td>0</td>\n",
       "      <td>0</td>\n",
       "      <td>1</td>\n",
       "      <td>0</td>\n",
       "      <td>0</td>\n",
       "      <td>0</td>\n",
       "      <td>1</td>\n",
       "      <td>0</td>\n",
       "      <td>0</td>\n",
       "      <td>1</td>\n",
       "      <td>0</td>\n",
       "      <td>0</td>\n",
       "    </tr>\n",
       "    <tr>\n",
       "      <th>1</th>\n",
       "      <td>23</td>\n",
       "      <td>289834.31</td>\n",
       "      <td>17398.92</td>\n",
       "      <td>1</td>\n",
       "      <td>2256.88</td>\n",
       "      <td>1270615.43</td>\n",
       "      <td>641482.79</td>\n",
       "      <td>229521.37</td>\n",
       "      <td>344635.16</td>\n",
       "      <td>61162.31</td>\n",
       "      <td>2000526.10</td>\n",
       "      <td>1</td>\n",
       "      <td>2</td>\n",
       "      <td>1</td>\n",
       "      <td>2</td>\n",
       "      <td>1</td>\n",
       "      <td>0</td>\n",
       "      <td>0</td>\n",
       "      <td>0</td>\n",
       "      <td>0</td>\n",
       "      <td>1</td>\n",
       "      <td>0</td>\n",
       "      <td>0</td>\n",
       "      <td>0</td>\n",
       "      <td>1</td>\n",
       "      <td>0</td>\n",
       "      <td>0</td>\n",
       "      <td>0</td>\n",
       "      <td>1</td>\n",
       "      <td>0</td>\n",
       "    </tr>\n",
       "    <tr>\n",
       "      <th>2</th>\n",
       "      <td>27</td>\n",
       "      <td>169935.23</td>\n",
       "      <td>42825.90</td>\n",
       "      <td>2</td>\n",
       "      <td>4568.74</td>\n",
       "      <td>1052715.84</td>\n",
       "      <td>1033401.59</td>\n",
       "      <td>652674.69</td>\n",
       "      <td>203054.35</td>\n",
       "      <td>79071.78</td>\n",
       "      <td>548137.58</td>\n",
       "      <td>1</td>\n",
       "      <td>3</td>\n",
       "      <td>2</td>\n",
       "      <td>3</td>\n",
       "      <td>0</td>\n",
       "      <td>0</td>\n",
       "      <td>0</td>\n",
       "      <td>0</td>\n",
       "      <td>1</td>\n",
       "      <td>1</td>\n",
       "      <td>0</td>\n",
       "      <td>0</td>\n",
       "      <td>1</td>\n",
       "      <td>0</td>\n",
       "      <td>0</td>\n",
       "      <td>0</td>\n",
       "      <td>0</td>\n",
       "      <td>1</td>\n",
       "      <td>0</td>\n",
       "    </tr>\n",
       "  </tbody>\n",
       "</table>\n",
       "</div>"
      ],
      "text/plain": [
       "   Age  Estimated Income  Superannuation Savings  Amount of Credit Cards  \\\n",
       "0   24          75384.77                17677.95                       1   \n",
       "1   23         289834.31                17398.92                       1   \n",
       "2   27         169935.23                42825.90                       2   \n",
       "\n",
       "   Credit Card Balance  Bank Loans  Bank Deposits  Checking Accounts  \\\n",
       "0               484.54   776242.92     1485828.64          603617.88   \n",
       "1              2256.88  1270615.43      641482.79          229521.37   \n",
       "2              4568.74  1052715.84     1033401.59          652674.69   \n",
       "\n",
       "   Saving Accounts  Foreign Currency Account  Business Lending  \\\n",
       "0        607332.46                  12249.96        1134475.30   \n",
       "1        344635.16                  61162.31        2000526.10   \n",
       "2        203054.35                  79071.78         548137.58   \n",
       "\n",
       "   Properties Owned  BRId  GenderId  IAId  Nationality_African  \\\n",
       "0                 1     1         1     1                    0   \n",
       "1                 1     2         1     2                    1   \n",
       "2                 1     3         2     3                    0   \n",
       "\n",
       "   Nationality_American  Nationality_Asian  Nationality_Australian  \\\n",
       "0                     1                  0                       0   \n",
       "1                     0                  0                       0   \n",
       "2                     0                  0                       0   \n",
       "\n",
       "   Nationality_European  Fee Structure_High  Fee Structure_Low  \\\n",
       "0                     0                   1                  0   \n",
       "1                     0                   1                  0   \n",
       "2                     1                   1                  0   \n",
       "\n",
       "   Fee Structure_Mid  Loyalty Classification_Gold  \\\n",
       "0                  0                            0   \n",
       "1                  0                            0   \n",
       "2                  0                            1   \n",
       "\n",
       "   Loyalty Classification_Jade  Loyalty Classification_Platinum  \\\n",
       "0                            1                                0   \n",
       "1                            1                                0   \n",
       "2                            0                                0   \n",
       "\n",
       "   Loyalty Classification_Silver  Income Band_Low  Income Band_Mid  \\\n",
       "0                              0                1                0   \n",
       "1                              0                0                1   \n",
       "2                              0                0                1   \n",
       "\n",
       "   Income Band_High  \n",
       "0                 0  \n",
       "1                 0  \n",
       "2                 0  "
      ]
     },
     "execution_count": 10,
     "metadata": {},
     "output_type": "execute_result"
    }
   ],
   "source": [
    "#creating X & Y variables\n",
    "\n",
    "x = df.drop('Risk Weighting', axis=1)\n",
    "x.head(3)"
   ]
  },
  {
   "cell_type": "code",
   "execution_count": 11,
   "id": "8efb342d",
   "metadata": {
    "scrolled": false
   },
   "outputs": [
    {
     "data": {
      "text/plain": [
       "0    2\n",
       "1    3\n",
       "2    3\n",
       "Name: Risk Weighting, dtype: int64"
      ]
     },
     "execution_count": 11,
     "metadata": {},
     "output_type": "execute_result"
    }
   ],
   "source": [
    "y = df['Risk Weighting']\n",
    "y.head(3)"
   ]
  },
  {
   "cell_type": "code",
   "execution_count": 12,
   "id": "c4267633",
   "metadata": {},
   "outputs": [
    {
     "data": {
      "text/plain": [
       "2    40.733333\n",
       "1    27.866667\n",
       "3    15.333333\n",
       "4    10.733333\n",
       "5     5.333333\n",
       "Name: Risk Weighting, dtype: float64"
      ]
     },
     "execution_count": 12,
     "metadata": {},
     "output_type": "execute_result"
    }
   ],
   "source": [
    "# checking if data is balanced in %\n",
    "\n",
    "y.value_counts(normalize=True)*100"
   ]
  },
  {
   "cell_type": "code",
   "execution_count": 13,
   "id": "826656a8",
   "metadata": {},
   "outputs": [],
   "source": [
    "x_train,x_test, y_train, y_test = train_test_split(x,y, test_size=0.2)"
   ]
  },
  {
   "cell_type": "code",
   "execution_count": 14,
   "id": "13f5f534",
   "metadata": {},
   "outputs": [
    {
     "data": {
      "text/plain": [
       "(600,)"
      ]
     },
     "execution_count": 14,
     "metadata": {},
     "output_type": "execute_result"
    }
   ],
   "source": [
    "y_test.shape"
   ]
  },
  {
   "cell_type": "code",
   "execution_count": null,
   "id": "6b228afc",
   "metadata": {},
   "outputs": [],
   "source": []
  },
  {
   "cell_type": "markdown",
   "id": "60b5bdaf",
   "metadata": {},
   "source": [
    "# Decision Tree Classifier"
   ]
  },
  {
   "cell_type": "code",
   "execution_count": 13,
   "id": "f7e6321a",
   "metadata": {},
   "outputs": [
    {
     "data": {
      "text/plain": [
       "DecisionTreeClassifier(max_depth=6, min_samples_leaf=8, random_state=100)"
      ]
     },
     "execution_count": 13,
     "metadata": {},
     "output_type": "execute_result"
    }
   ],
   "source": [
    "model_dt = DecisionTreeClassifier(criterion='gini', random_state=100, max_depth=6,min_samples_leaf=8)\n",
    "model_dt.fit(x_train,y_train)"
   ]
  },
  {
   "cell_type": "code",
   "execution_count": 14,
   "id": "0ee5de20",
   "metadata": {
    "scrolled": true
   },
   "outputs": [
    {
     "data": {
      "text/plain": [
       "array([2, 2, 1, 2, 2, 1, 2, 4, 2, 4, 5, 1, 1, 2, 1, 1, 2, 2, 4, 2, 2, 2,\n",
       "       2, 3, 2, 2, 4, 2, 1, 1, 3, 2, 2, 1, 2, 1, 1, 3, 1, 2, 1, 2, 1, 2,\n",
       "       4, 4, 1, 2, 1, 2, 4, 1, 2, 1, 1, 1, 2, 2, 1, 2, 3, 1, 2, 2, 3, 3,\n",
       "       2, 1, 4, 2, 2, 2, 2, 2, 2, 3, 2, 3, 5, 1, 2, 2, 1, 1, 2, 4, 2, 2,\n",
       "       2, 2, 1, 2, 1, 5, 2, 3, 2, 2, 3, 1, 2, 4, 2, 2, 1, 2, 2, 2, 1, 2,\n",
       "       5, 1, 1, 1, 4, 2, 1, 2, 2, 1, 1, 2, 1, 1, 2, 1, 2, 1, 1, 2, 1, 2,\n",
       "       2, 4, 3, 2, 1, 2, 2, 2, 3, 1, 1, 2, 1, 2, 3, 3, 3, 2, 2, 3, 1, 2,\n",
       "       2, 2, 4, 2, 1, 1, 3, 2, 2, 3, 1, 4, 1, 1, 2, 2, 4, 4, 2, 3, 2, 2,\n",
       "       2, 1, 4, 3, 2, 3, 2, 1, 3, 2, 1, 1, 2, 2, 1, 2, 2, 1, 2, 2, 1, 2,\n",
       "       1, 2, 2, 2, 1, 2, 2, 2, 3, 3, 2, 2, 2, 2, 2, 3, 2, 2, 1, 2, 2, 2,\n",
       "       3, 2, 2, 3, 2, 2, 2, 3, 2, 2, 4, 1, 1, 1, 2, 5, 2, 2, 2, 2, 2, 2,\n",
       "       2, 2, 5, 1, 2, 3, 3, 2, 3, 2, 2, 2, 2, 1, 2, 2, 2, 2, 1, 1, 2, 2,\n",
       "       2, 1, 1, 1, 1, 2, 3, 3, 2, 2, 2, 1, 5, 1, 2, 2, 1, 2, 1, 2, 1, 1,\n",
       "       1, 2, 3, 2, 2, 1, 4, 2, 3, 1, 3, 2, 3, 2, 1, 2, 2, 2, 4, 2, 1, 2,\n",
       "       2, 1, 3, 3, 1, 2, 2, 2, 1, 4, 2, 4, 2, 4, 2, 1, 3, 2, 1, 1, 3, 5,\n",
       "       2, 3, 1, 2, 4, 2, 2, 3, 2, 2, 1, 3, 2, 1, 2, 2, 1, 1, 1, 2, 2, 2,\n",
       "       1, 2, 2, 3, 2, 2, 2, 1, 2, 3, 3, 2, 2, 3, 3, 1, 1, 2, 3, 5, 2, 1,\n",
       "       1, 2, 3, 4, 2, 3, 4, 2, 2, 1, 2, 1, 2, 1, 3, 1, 2, 1, 5, 1, 4, 2,\n",
       "       2, 2, 2, 1, 2, 2, 2, 1, 1, 3, 1, 4, 2, 1, 2, 2, 2, 2, 3, 2, 3, 3,\n",
       "       1, 2, 1, 2, 2, 3, 1, 1, 2, 3, 2, 3, 2, 1, 2, 1, 1, 2, 1, 1, 2, 2,\n",
       "       1, 1, 2, 1, 2, 2, 2, 1, 1, 2, 3, 1, 3, 3, 3, 2, 2, 2, 1, 1, 3, 1,\n",
       "       2, 5, 1, 2, 2, 1, 2, 2, 1, 1, 2, 2, 3, 3, 1, 1, 1, 3, 1, 2, 2, 2,\n",
       "       2, 1, 2, 1, 2, 2, 1, 3, 1, 1, 2, 2, 2, 2, 3, 2, 4, 2, 2, 2, 2, 2,\n",
       "       2, 2, 2, 2, 2, 2, 2, 2, 2, 1, 1, 3, 1, 3, 2, 2, 2, 2, 2, 2, 2, 4,\n",
       "       1, 2, 2, 2, 1, 3, 3, 2, 4, 2, 2, 3, 2, 2, 2, 2, 2, 2, 1, 2, 1, 1,\n",
       "       2, 1, 2, 2, 2, 4, 2, 1, 2, 5, 2, 1, 2, 2, 2, 2, 2, 2, 3, 2, 1, 2,\n",
       "       2, 2, 3, 2, 2, 2, 3, 2, 3, 2, 4, 1, 1, 2, 2, 2, 2, 2, 2, 2, 1, 2,\n",
       "       2, 2, 2, 2, 2, 2], dtype=int64)"
      ]
     },
     "execution_count": 14,
     "metadata": {},
     "output_type": "execute_result"
    }
   ],
   "source": [
    "y_pred = model_dt.predict(x_test)\n",
    "y_pred"
   ]
  },
  {
   "cell_type": "code",
   "execution_count": 23,
   "id": "17d8dec2",
   "metadata": {},
   "outputs": [
    {
     "name": "stdout",
     "output_type": "stream",
     "text": [
      "<class 'numpy.ndarray'>\n",
      "(600,)\n",
      "[2 2 1 2 2 1 2 4 2 4]\n"
     ]
    }
   ],
   "source": [
    "print(type(y_pred))\n",
    "print(y_pred.shape)   # == y_test.shape?\n",
    "print(y_pred[:10])"
   ]
  },
  {
   "cell_type": "code",
   "execution_count": 24,
   "id": "bf4213e0",
   "metadata": {},
   "outputs": [
    {
     "name": "stdout",
     "output_type": "stream",
     "text": [
      "<class 'pandas.core.series.Series'>\n",
      "(600,)\n",
      "1270    1\n",
      "1298    2\n",
      "1853    1\n",
      "2189    3\n",
      "865     4\n",
      "1123    1\n",
      "1236    2\n",
      "2978    3\n",
      "783     2\n",
      "1110    4\n",
      "Name: Risk Weighting, dtype: int64\n"
     ]
    }
   ],
   "source": [
    "print(type(y_test))\n",
    "print(y_test.shape)   # == y_test.shape?\n",
    "print(y_test[:10])"
   ]
  },
  {
   "cell_type": "code",
   "execution_count": 15,
   "id": "2bb82d6e",
   "metadata": {},
   "outputs": [
    {
     "data": {
      "text/plain": [
       "1.0"
      ]
     },
     "execution_count": 15,
     "metadata": {},
     "output_type": "execute_result"
    }
   ],
   "source": [
    "# Compairing predicted values with actual ones\n",
    "\n",
    "model_dt.score(x_test, y_pred)"
   ]
  },
  {
   "cell_type": "code",
   "execution_count": 27,
   "id": "fad76661",
   "metadata": {
    "scrolled": false
   },
   "outputs": [
    {
     "name": "stdout",
     "output_type": "stream",
     "text": [
      "              precision    recall  f1-score   support\n",
      "\n",
      "           0       0.00      0.00      0.00         0\n",
      "           1       0.80      0.74      0.76       174\n",
      "\n",
      "   micro avg       0.80      0.74      0.76       174\n",
      "   macro avg       0.40      0.37      0.38       174\n",
      "weighted avg       0.80      0.74      0.76       174\n",
      "\n"
     ]
    },
    {
     "name": "stderr",
     "output_type": "stream",
     "text": [
      "C:\\Users\\OMEN\\anaconda3\\lib\\site-packages\\sklearn\\metrics\\_classification.py:1318: UndefinedMetricWarning: Precision and F-score are ill-defined and being set to 0.0 in labels with no predicted samples. Use `zero_division` parameter to control this behavior.\n",
      "  _warn_prf(average, modifier, msg_start, len(result))\n",
      "C:\\Users\\OMEN\\anaconda3\\lib\\site-packages\\sklearn\\metrics\\_classification.py:1318: UndefinedMetricWarning: Recall and F-score are ill-defined and being set to 0.0 in labels with no true samples. Use `zero_division` parameter to control this behavior.\n",
      "  _warn_prf(average, modifier, msg_start, len(result))\n",
      "C:\\Users\\OMEN\\anaconda3\\lib\\site-packages\\sklearn\\metrics\\_classification.py:1318: UndefinedMetricWarning: Precision and F-score are ill-defined and being set to 0.0 in labels with no predicted samples. Use `zero_division` parameter to control this behavior.\n",
      "  _warn_prf(average, modifier, msg_start, len(result))\n",
      "C:\\Users\\OMEN\\anaconda3\\lib\\site-packages\\sklearn\\metrics\\_classification.py:1318: UndefinedMetricWarning: Recall and F-score are ill-defined and being set to 0.0 in labels with no true samples. Use `zero_division` parameter to control this behavior.\n",
      "  _warn_prf(average, modifier, msg_start, len(result))\n",
      "C:\\Users\\OMEN\\anaconda3\\lib\\site-packages\\sklearn\\metrics\\_classification.py:1318: UndefinedMetricWarning: Precision and F-score are ill-defined and being set to 0.0 in labels with no predicted samples. Use `zero_division` parameter to control this behavior.\n",
      "  _warn_prf(average, modifier, msg_start, len(result))\n",
      "C:\\Users\\OMEN\\anaconda3\\lib\\site-packages\\sklearn\\metrics\\_classification.py:1318: UndefinedMetricWarning: Recall and F-score are ill-defined and being set to 0.0 in labels with no true samples. Use `zero_division` parameter to control this behavior.\n",
      "  _warn_prf(average, modifier, msg_start, len(result))\n"
     ]
    }
   ],
   "source": [
    "print(classification_report(y_test, y_pred, labels=[0,1]))"
   ]
  },
  {
   "cell_type": "code",
   "execution_count": 28,
   "id": "a58bc984",
   "metadata": {
    "scrolled": true
   },
   "outputs": [
    {
     "name": "stdout",
     "output_type": "stream",
     "text": [
      "[[128  45   0   1   0]\n",
      " [ 32 177  19  10   0]\n",
      " [  1  47  39  10   0]\n",
      " [  0  17  25  18   3]\n",
      " [  0   5   9  10   4]]\n"
     ]
    }
   ],
   "source": [
    "print(confusion_matrix(y_test, y_pred))"
   ]
  },
  {
   "cell_type": "markdown",
   "id": "7757dcd3",
   "metadata": {},
   "source": [
    "### NOTE:"
   ]
  },
  {
   "cell_type": "raw",
   "id": "b6b6e38c",
   "metadata": {},
   "source": [
    "Confusion Matrix:\n",
    "\n",
    "[[128  45   0   1   0]\n",
    " [ 32 177  19  10   0]\n",
    " [  1  47  39  10   0]\n",
    " [  0  17  25  18   3]\n",
    " [  0   5   9  10   4]]\n",
    "\n",
    "\n",
    "Rows = Actual class\n",
    "Columns = Predicted class\n",
    "Diagonal = Correct predictions\n",
    "Off-diagonal = Misclassifications\n",
    "Example: Class 1 (row 0) was predicted as class 2 (column 1) for 2 samples.\n",
    "\n",
    "\n",
    "\n",
    "\n",
    "Classification Report:\n",
    "\n",
    "              precision    recall  f1-score   support\n",
    "\n",
    "           0       0.00      0.00      0.00         0\n",
    "           1       0.80      0.74      0.76       174\n",
    "\n",
    "   micro avg       0.80      0.74      0.76       174\n",
    "   macro avg       0.40      0.37      0.38       174\n",
    "weighted avg       0.80      0.74      0.76       174\n",
    "\n",
    "\n",
    "Precision: How many predicted as class X were correct\n",
    "Recall: Out of all actual class X, how many were caught\n",
    "F1-score: Harmonic mean of precision & recall\n",
    "Support: Count of samples in each class\n"
   ]
  },
  {
   "cell_type": "code",
   "execution_count": null,
   "id": "6eb34131",
   "metadata": {},
   "outputs": [],
   "source": []
  },
  {
   "cell_type": "code",
   "execution_count": null,
   "id": "ee5bfedd",
   "metadata": {},
   "outputs": [],
   "source": []
  },
  {
   "cell_type": "markdown",
   "id": "1dc43961",
   "metadata": {},
   "source": [
    "# Over-Sampling"
   ]
  },
  {
   "cell_type": "code",
   "execution_count": 25,
   "id": "f58cac6d",
   "metadata": {},
   "outputs": [],
   "source": [
    "sm = SMOTEENN()\n",
    "X_resampled, y_resampled = sm.fit_resample(x,y)"
   ]
  },
  {
   "cell_type": "code",
   "execution_count": 26,
   "id": "6de6e920",
   "metadata": {},
   "outputs": [],
   "source": [
    "xr_train,xr_test, yr_train, yr_test = train_test_split(X_resampled,y_resampled, test_size=0.2)"
   ]
  },
  {
   "cell_type": "code",
   "execution_count": 27,
   "id": "90a5d66a",
   "metadata": {},
   "outputs": [],
   "source": [
    "model_dt_smote = DecisionTreeClassifier(criterion='gini', random_state=100, max_depth=6,min_samples_leaf=8)"
   ]
  },
  {
   "cell_type": "code",
   "execution_count": 28,
   "id": "2fda0d83",
   "metadata": {},
   "outputs": [
    {
     "data": {
      "text/plain": [
       "DecisionTreeClassifier(max_depth=6, min_samples_leaf=8, random_state=100)"
      ]
     },
     "execution_count": 28,
     "metadata": {},
     "output_type": "execute_result"
    }
   ],
   "source": [
    "model_dt_smote.fit(xr_train,yr_train)"
   ]
  },
  {
   "cell_type": "code",
   "execution_count": 29,
   "id": "64a86208",
   "metadata": {},
   "outputs": [],
   "source": [
    "y_pred_smote = model_dt_smote.predict(xr_test)"
   ]
  },
  {
   "cell_type": "code",
   "execution_count": 30,
   "id": "a023d4e1",
   "metadata": {},
   "outputs": [
    {
     "name": "stdout",
     "output_type": "stream",
     "text": [
      "              precision    recall  f1-score   support\n",
      "\n",
      "           0       0.00      0.00      0.00         0\n",
      "           1       0.90      0.95      0.92       164\n",
      "\n",
      "   micro avg       0.90      0.95      0.92       164\n",
      "   macro avg       0.45      0.47      0.46       164\n",
      "weighted avg       0.90      0.95      0.92       164\n",
      "\n"
     ]
    },
    {
     "name": "stderr",
     "output_type": "stream",
     "text": [
      "C:\\Users\\OMEN\\anaconda3\\lib\\site-packages\\sklearn\\metrics\\_classification.py:1318: UndefinedMetricWarning: Precision and F-score are ill-defined and being set to 0.0 in labels with no predicted samples. Use `zero_division` parameter to control this behavior.\n",
      "  _warn_prf(average, modifier, msg_start, len(result))\n",
      "C:\\Users\\OMEN\\anaconda3\\lib\\site-packages\\sklearn\\metrics\\_classification.py:1318: UndefinedMetricWarning: Recall and F-score are ill-defined and being set to 0.0 in labels with no true samples. Use `zero_division` parameter to control this behavior.\n",
      "  _warn_prf(average, modifier, msg_start, len(result))\n",
      "C:\\Users\\OMEN\\anaconda3\\lib\\site-packages\\sklearn\\metrics\\_classification.py:1318: UndefinedMetricWarning: Precision and F-score are ill-defined and being set to 0.0 in labels with no predicted samples. Use `zero_division` parameter to control this behavior.\n",
      "  _warn_prf(average, modifier, msg_start, len(result))\n",
      "C:\\Users\\OMEN\\anaconda3\\lib\\site-packages\\sklearn\\metrics\\_classification.py:1318: UndefinedMetricWarning: Recall and F-score are ill-defined and being set to 0.0 in labels with no true samples. Use `zero_division` parameter to control this behavior.\n",
      "  _warn_prf(average, modifier, msg_start, len(result))\n",
      "C:\\Users\\OMEN\\anaconda3\\lib\\site-packages\\sklearn\\metrics\\_classification.py:1318: UndefinedMetricWarning: Precision and F-score are ill-defined and being set to 0.0 in labels with no predicted samples. Use `zero_division` parameter to control this behavior.\n",
      "  _warn_prf(average, modifier, msg_start, len(result))\n",
      "C:\\Users\\OMEN\\anaconda3\\lib\\site-packages\\sklearn\\metrics\\_classification.py:1318: UndefinedMetricWarning: Recall and F-score are ill-defined and being set to 0.0 in labels with no true samples. Use `zero_division` parameter to control this behavior.\n",
      "  _warn_prf(average, modifier, msg_start, len(result))\n"
     ]
    }
   ],
   "source": [
    "print(classification_report(yr_test, y_pred_smote, labels=[0,1]))"
   ]
  },
  {
   "cell_type": "code",
   "execution_count": 31,
   "id": "d24385db",
   "metadata": {},
   "outputs": [
    {
     "name": "stdout",
     "output_type": "stream",
     "text": [
      "[[155   2   1   6   0]\n",
      " [ 13   4   9   3   1]\n",
      " [  3   4  48  39  31]\n",
      " [  1   4  33  71  54]\n",
      " [  1   0  28  48 134]]\n"
     ]
    }
   ],
   "source": [
    "print(confusion_matrix(yr_test, y_pred_smote))"
   ]
  },
  {
   "cell_type": "code",
   "execution_count": null,
   "id": "b5523123",
   "metadata": {},
   "outputs": [],
   "source": []
  },
  {
   "cell_type": "code",
   "execution_count": 32,
   "id": "fe88f9af",
   "metadata": {},
   "outputs": [
    {
     "name": "stdout",
     "output_type": "stream",
     "text": [
      "<class 'pandas.core.series.Series'>\n",
      "(600,)\n",
      "1270    1\n",
      "1298    2\n",
      "1853    1\n",
      "2189    3\n",
      "865     4\n",
      "1123    1\n",
      "1236    2\n",
      "2978    3\n",
      "783     2\n",
      "1110    4\n",
      "Name: Risk Weighting, dtype: int64\n"
     ]
    }
   ],
   "source": [
    "print(type(y_test))\n",
    "print(y_test.shape)   # == y_test.shape?\n",
    "print(y_test[:10])"
   ]
  },
  {
   "cell_type": "code",
   "execution_count": 33,
   "id": "880a154a",
   "metadata": {},
   "outputs": [
    {
     "name": "stdout",
     "output_type": "stream",
     "text": [
      "<class 'numpy.ndarray'>\n",
      "(693,)\n",
      "[3 3 1 4 5 4 4 3 5 3]\n"
     ]
    }
   ],
   "source": [
    "print(type(y_pred_smote))\n",
    "print(y_pred_smote.shape)   # == y_test.shape?\n",
    "print(y_pred_smote[:10])"
   ]
  },
  {
   "cell_type": "code",
   "execution_count": 34,
   "id": "53fd8d03",
   "metadata": {},
   "outputs": [],
   "source": [
    "# decision tree not really performing well"
   ]
  },
  {
   "cell_type": "code",
   "execution_count": null,
   "id": "d9af4c34",
   "metadata": {},
   "outputs": [],
   "source": []
  },
  {
   "cell_type": "code",
   "execution_count": null,
   "id": "da248e00",
   "metadata": {},
   "outputs": [],
   "source": []
  },
  {
   "cell_type": "code",
   "execution_count": null,
   "id": "96102630",
   "metadata": {},
   "outputs": [],
   "source": []
  },
  {
   "cell_type": "code",
   "execution_count": null,
   "id": "cdb70d23",
   "metadata": {},
   "outputs": [],
   "source": []
  },
  {
   "cell_type": "code",
   "execution_count": null,
   "id": "623ee1e3",
   "metadata": {},
   "outputs": [],
   "source": []
  },
  {
   "cell_type": "code",
   "execution_count": null,
   "id": "9a720fdf",
   "metadata": {},
   "outputs": [],
   "source": []
  },
  {
   "cell_type": "code",
   "execution_count": null,
   "id": "be56ee08",
   "metadata": {},
   "outputs": [],
   "source": []
  },
  {
   "cell_type": "markdown",
   "id": "d63cf755",
   "metadata": {},
   "source": [
    "# Random Forest Classifier"
   ]
  },
  {
   "cell_type": "code",
   "execution_count": 41,
   "id": "4386f9b2",
   "metadata": {},
   "outputs": [],
   "source": [
    "from sklearn.ensemble import RandomForestClassifier"
   ]
  },
  {
   "cell_type": "code",
   "execution_count": 43,
   "id": "0226a543",
   "metadata": {},
   "outputs": [],
   "source": [
    "model_rf = RandomForestClassifier(n_estimators=100, criterion='gini', random_state=100, max_depth=6,min_samples_leaf=8)\n",
    "model_rf.fit(x_train,y_train)\n",
    "y_pred_rf = model_rf.predict(x_test)"
   ]
  },
  {
   "cell_type": "code",
   "execution_count": 44,
   "id": "96a6fb1c",
   "metadata": {},
   "outputs": [
    {
     "name": "stdout",
     "output_type": "stream",
     "text": [
      "              precision    recall  f1-score   support\n",
      "\n",
      "           0       0.00      0.00      0.00         0\n",
      "           1       0.81      0.71      0.76       178\n",
      "\n",
      "   micro avg       0.81      0.71      0.76       178\n",
      "   macro avg       0.41      0.36      0.38       178\n",
      "weighted avg       0.81      0.71      0.76       178\n",
      "\n"
     ]
    },
    {
     "name": "stderr",
     "output_type": "stream",
     "text": [
      "C:\\Users\\OMEN\\anaconda3\\lib\\site-packages\\sklearn\\metrics\\_classification.py:1318: UndefinedMetricWarning: Precision and F-score are ill-defined and being set to 0.0 in labels with no predicted samples. Use `zero_division` parameter to control this behavior.\n",
      "  _warn_prf(average, modifier, msg_start, len(result))\n",
      "C:\\Users\\OMEN\\anaconda3\\lib\\site-packages\\sklearn\\metrics\\_classification.py:1318: UndefinedMetricWarning: Recall and F-score are ill-defined and being set to 0.0 in labels with no true samples. Use `zero_division` parameter to control this behavior.\n",
      "  _warn_prf(average, modifier, msg_start, len(result))\n",
      "C:\\Users\\OMEN\\anaconda3\\lib\\site-packages\\sklearn\\metrics\\_classification.py:1318: UndefinedMetricWarning: Precision and F-score are ill-defined and being set to 0.0 in labels with no predicted samples. Use `zero_division` parameter to control this behavior.\n",
      "  _warn_prf(average, modifier, msg_start, len(result))\n",
      "C:\\Users\\OMEN\\anaconda3\\lib\\site-packages\\sklearn\\metrics\\_classification.py:1318: UndefinedMetricWarning: Recall and F-score are ill-defined and being set to 0.0 in labels with no true samples. Use `zero_division` parameter to control this behavior.\n",
      "  _warn_prf(average, modifier, msg_start, len(result))\n",
      "C:\\Users\\OMEN\\anaconda3\\lib\\site-packages\\sklearn\\metrics\\_classification.py:1318: UndefinedMetricWarning: Precision and F-score are ill-defined and being set to 0.0 in labels with no predicted samples. Use `zero_division` parameter to control this behavior.\n",
      "  _warn_prf(average, modifier, msg_start, len(result))\n",
      "C:\\Users\\OMEN\\anaconda3\\lib\\site-packages\\sklearn\\metrics\\_classification.py:1318: UndefinedMetricWarning: Recall and F-score are ill-defined and being set to 0.0 in labels with no true samples. Use `zero_division` parameter to control this behavior.\n",
      "  _warn_prf(average, modifier, msg_start, len(result))\n"
     ]
    }
   ],
   "source": [
    "print(classification_report(y_test, y_pred_rf, labels=[0,1]))"
   ]
  },
  {
   "cell_type": "code",
   "execution_count": 52,
   "id": "1a6c13ed",
   "metadata": {},
   "outputs": [
    {
     "name": "stdout",
     "output_type": "stream",
     "text": [
      "<class 'pandas.core.series.Series'>\n",
      "(600,)\n",
      "1270    1\n",
      "1298    2\n",
      "1853    1\n",
      "2189    3\n",
      "865     4\n",
      "1123    1\n",
      "1236    2\n",
      "2978    3\n",
      "783     2\n",
      "1110    4\n",
      "Name: Risk Weighting, dtype: int64\n",
      "--------------------------------------------------\n",
      "<class 'numpy.ndarray'>\n",
      "(600,)\n",
      "[2 2 1 2 2 1 2 2 2 4]\n"
     ]
    }
   ],
   "source": [
    "print(type(y_test))\n",
    "print(y_test.shape)   # == y_test.shape?\n",
    "print(y_test[:10])\n",
    "\n",
    "print('-'*50)\n",
    "\n",
    "print(type(y_pred_rf))\n",
    "print(y_pred_rf.shape)   # == y_test.shape?\n",
    "print(y_pred_rf[:10])"
   ]
  },
  {
   "cell_type": "code",
   "execution_count": null,
   "id": "f738f2ed",
   "metadata": {},
   "outputs": [],
   "source": []
  },
  {
   "cell_type": "code",
   "execution_count": null,
   "id": "a2785c84",
   "metadata": {},
   "outputs": [],
   "source": []
  },
  {
   "cell_type": "code",
   "execution_count": 45,
   "id": "4bab12c3",
   "metadata": {},
   "outputs": [],
   "source": [
    "sm = SMOTEENN()\n",
    "X_resampled, y_resampled = sm.fit_resample(x,y)"
   ]
  },
  {
   "cell_type": "code",
   "execution_count": 46,
   "id": "ee910dc4",
   "metadata": {},
   "outputs": [],
   "source": [
    "xr_train,xr_test, yr_train, yr_test = train_test_split(X_resampled,y_resampled, test_size=0.2)"
   ]
  },
  {
   "cell_type": "code",
   "execution_count": 47,
   "id": "3a127199",
   "metadata": {},
   "outputs": [],
   "source": [
    "model_rf_smote = RandomForestClassifier(n_estimators=100, criterion='gini', random_state=100, max_depth=6,min_samples_leaf=8)\n",
    "model_rf_smote.fit(xr_train,yr_train)\n",
    "y_pred_smote_rf = model_rf_smote.predict(xr_test)"
   ]
  },
  {
   "cell_type": "code",
   "execution_count": 48,
   "id": "f9fac63c",
   "metadata": {},
   "outputs": [
    {
     "name": "stdout",
     "output_type": "stream",
     "text": [
      "              precision    recall  f1-score   support\n",
      "\n",
      "           0       0.00      0.00      0.00         0\n",
      "           1       0.91      0.96      0.93       152\n",
      "\n",
      "   micro avg       0.91      0.96      0.93       152\n",
      "   macro avg       0.45      0.48      0.47       152\n",
      "weighted avg       0.91      0.96      0.93       152\n",
      "\n"
     ]
    },
    {
     "name": "stderr",
     "output_type": "stream",
     "text": [
      "C:\\Users\\OMEN\\anaconda3\\lib\\site-packages\\sklearn\\metrics\\_classification.py:1318: UndefinedMetricWarning: Precision and F-score are ill-defined and being set to 0.0 in labels with no predicted samples. Use `zero_division` parameter to control this behavior.\n",
      "  _warn_prf(average, modifier, msg_start, len(result))\n",
      "C:\\Users\\OMEN\\anaconda3\\lib\\site-packages\\sklearn\\metrics\\_classification.py:1318: UndefinedMetricWarning: Recall and F-score are ill-defined and being set to 0.0 in labels with no true samples. Use `zero_division` parameter to control this behavior.\n",
      "  _warn_prf(average, modifier, msg_start, len(result))\n",
      "C:\\Users\\OMEN\\anaconda3\\lib\\site-packages\\sklearn\\metrics\\_classification.py:1318: UndefinedMetricWarning: Precision and F-score are ill-defined and being set to 0.0 in labels with no predicted samples. Use `zero_division` parameter to control this behavior.\n",
      "  _warn_prf(average, modifier, msg_start, len(result))\n",
      "C:\\Users\\OMEN\\anaconda3\\lib\\site-packages\\sklearn\\metrics\\_classification.py:1318: UndefinedMetricWarning: Recall and F-score are ill-defined and being set to 0.0 in labels with no true samples. Use `zero_division` parameter to control this behavior.\n",
      "  _warn_prf(average, modifier, msg_start, len(result))\n",
      "C:\\Users\\OMEN\\anaconda3\\lib\\site-packages\\sklearn\\metrics\\_classification.py:1318: UndefinedMetricWarning: Precision and F-score are ill-defined and being set to 0.0 in labels with no predicted samples. Use `zero_division` parameter to control this behavior.\n",
      "  _warn_prf(average, modifier, msg_start, len(result))\n",
      "C:\\Users\\OMEN\\anaconda3\\lib\\site-packages\\sklearn\\metrics\\_classification.py:1318: UndefinedMetricWarning: Recall and F-score are ill-defined and being set to 0.0 in labels with no true samples. Use `zero_division` parameter to control this behavior.\n",
      "  _warn_prf(average, modifier, msg_start, len(result))\n"
     ]
    }
   ],
   "source": [
    "print(classification_report(yr_test, y_pred_smote_rf, labels=[0,1]))"
   ]
  },
  {
   "cell_type": "code",
   "execution_count": 49,
   "id": "bc92cace",
   "metadata": {},
   "outputs": [
    {
     "name": "stdout",
     "output_type": "stream",
     "text": [
      "[[146   0   0   4   2]\n",
      " [  9   2   4   8   5]\n",
      " [  4   0  32  53  51]\n",
      " [  2   1   1 108  51]\n",
      " [  0   0   2  17 190]]\n"
     ]
    }
   ],
   "source": [
    "print(confusion_matrix(yr_test, y_pred_smote_rf))"
   ]
  },
  {
   "cell_type": "code",
   "execution_count": null,
   "id": "f6b22dad",
   "metadata": {},
   "outputs": [],
   "source": []
  },
  {
   "cell_type": "code",
   "execution_count": 51,
   "id": "ecf525a0",
   "metadata": {},
   "outputs": [
    {
     "name": "stdout",
     "output_type": "stream",
     "text": [
      "<class 'pandas.core.series.Series'>\n",
      "(600,)\n",
      "1270    1\n",
      "1298    2\n",
      "1853    1\n",
      "2189    3\n",
      "865     4\n",
      "1123    1\n",
      "1236    2\n",
      "2978    3\n",
      "783     2\n",
      "1110    4\n",
      "Name: Risk Weighting, dtype: int64\n",
      "--------------------------------------------------\n",
      "<class 'numpy.ndarray'>\n",
      "(692,)\n",
      "[4 5 5 5 5 3 5 5 5 4]\n"
     ]
    }
   ],
   "source": [
    "print(type(y_test))\n",
    "print(y_test.shape)   # == y_test.shape?\n",
    "print(y_test[:10])\n",
    "\n",
    "print('-'*50)\n",
    "\n",
    "print(type(y_pred_smote_rf))\n",
    "print(y_pred_smote_rf.shape)   # == y_test.shape?\n",
    "print(y_pred_smote_rf[:10])"
   ]
  },
  {
   "cell_type": "code",
   "execution_count": null,
   "id": "5be5ce5b",
   "metadata": {},
   "outputs": [],
   "source": []
  },
  {
   "cell_type": "markdown",
   "id": "a6c403b8",
   "metadata": {},
   "source": [
    "# SAVING MODEL"
   ]
  },
  {
   "cell_type": "code",
   "execution_count": null,
   "id": "485c0e90",
   "metadata": {},
   "outputs": [],
   "source": [
    "# This ensures time saving by letting us directly call the model and \n",
    "# perform predictions on unseen data (*without Re-Running model each & everytime*)"
   ]
  },
  {
   "cell_type": "code",
   "execution_count": 76,
   "id": "a809ba3e",
   "metadata": {},
   "outputs": [],
   "source": [
    "import pickle"
   ]
  },
  {
   "cell_type": "code",
   "execution_count": 77,
   "id": "06db9b09",
   "metadata": {},
   "outputs": [],
   "source": [
    "filename = 'model.sav'"
   ]
  },
  {
   "cell_type": "code",
   "execution_count": 78,
   "id": "5f95814e",
   "metadata": {},
   "outputs": [],
   "source": [
    "pickle.dump(model_rf_smote, open(filename, 'wb'))"
   ]
  },
  {
   "cell_type": "code",
   "execution_count": 81,
   "id": "e859c01d",
   "metadata": {},
   "outputs": [
    {
     "data": {
      "text/plain": [
       "0.9357326478149101"
      ]
     },
     "execution_count": 81,
     "metadata": {},
     "output_type": "execute_result"
    }
   ],
   "source": [
    "load_model = pickle.load(open(filename, 'rb'))   #checking if saved model is working fine\n",
    "load_model.score(xr_test,yr_test)"
   ]
  },
  {
   "cell_type": "code",
   "execution_count": null,
   "id": "f801c367",
   "metadata": {},
   "outputs": [],
   "source": []
  },
  {
   "cell_type": "code",
   "execution_count": null,
   "id": "a7733293",
   "metadata": {},
   "outputs": [],
   "source": []
  },
  {
   "cell_type": "code",
   "execution_count": null,
   "id": "46db7dd2",
   "metadata": {},
   "outputs": [],
   "source": []
  },
  {
   "cell_type": "code",
   "execution_count": null,
   "id": "92ed787e",
   "metadata": {},
   "outputs": [],
   "source": []
  },
  {
   "cell_type": "code",
   "execution_count": null,
   "id": "2cf154ad",
   "metadata": {},
   "outputs": [],
   "source": []
  },
  {
   "cell_type": "code",
   "execution_count": null,
   "id": "a7d5cda0",
   "metadata": {},
   "outputs": [],
   "source": []
  },
  {
   "cell_type": "markdown",
   "id": "44fc5d6e",
   "metadata": {},
   "source": [
    "# PCA: (could be performed if accuracy is still not good)"
   ]
  },
  {
   "cell_type": "code",
   "execution_count": 37,
   "id": "eff3ff57",
   "metadata": {},
   "outputs": [],
   "source": [
    "from sklearn.decomposition import PCA\n",
    "\n",
    "pca = PCA(0.9)\n",
    "xr_train1 = pca.fit_transform(x_train, y_train)"
   ]
  },
  {
   "cell_type": "code",
   "execution_count": 38,
   "id": "ecacb989",
   "metadata": {},
   "outputs": [],
   "source": [
    "xr_test1 = pca.transform(x_test)"
   ]
  },
  {
   "cell_type": "code",
   "execution_count": 39,
   "id": "ce97e2f3",
   "metadata": {},
   "outputs": [],
   "source": [
    "model_pca = RandomForestClassifier(n_estimators=100, criterion='gini', random_state=100, max_depth=6,min_samples_leaf=8)\n",
    "model_pca.fit(x_train,y_train)\n",
    "y_pred_pca = model_pca.predict(x_test)"
   ]
  },
  {
   "cell_type": "code",
   "execution_count": 40,
   "id": "9d31bd5b",
   "metadata": {},
   "outputs": [
    {
     "name": "stdout",
     "output_type": "stream",
     "text": [
      "              precision    recall  f1-score   support\n",
      "\n",
      "           0       0.00      0.00      0.00         0\n",
      "           1       0.81      0.74      0.77       174\n",
      "\n",
      "   micro avg       0.81      0.74      0.77       174\n",
      "   macro avg       0.40      0.37      0.39       174\n",
      "weighted avg       0.81      0.74      0.77       174\n",
      "\n"
     ]
    },
    {
     "name": "stderr",
     "output_type": "stream",
     "text": [
      "C:\\Users\\OMEN\\anaconda3\\lib\\site-packages\\sklearn\\metrics\\_classification.py:1318: UndefinedMetricWarning: Precision and F-score are ill-defined and being set to 0.0 in labels with no predicted samples. Use `zero_division` parameter to control this behavior.\n",
      "  _warn_prf(average, modifier, msg_start, len(result))\n",
      "C:\\Users\\OMEN\\anaconda3\\lib\\site-packages\\sklearn\\metrics\\_classification.py:1318: UndefinedMetricWarning: Recall and F-score are ill-defined and being set to 0.0 in labels with no true samples. Use `zero_division` parameter to control this behavior.\n",
      "  _warn_prf(average, modifier, msg_start, len(result))\n",
      "C:\\Users\\OMEN\\anaconda3\\lib\\site-packages\\sklearn\\metrics\\_classification.py:1318: UndefinedMetricWarning: Precision and F-score are ill-defined and being set to 0.0 in labels with no predicted samples. Use `zero_division` parameter to control this behavior.\n",
      "  _warn_prf(average, modifier, msg_start, len(result))\n",
      "C:\\Users\\OMEN\\anaconda3\\lib\\site-packages\\sklearn\\metrics\\_classification.py:1318: UndefinedMetricWarning: Recall and F-score are ill-defined and being set to 0.0 in labels with no true samples. Use `zero_division` parameter to control this behavior.\n",
      "  _warn_prf(average, modifier, msg_start, len(result))\n",
      "C:\\Users\\OMEN\\anaconda3\\lib\\site-packages\\sklearn\\metrics\\_classification.py:1318: UndefinedMetricWarning: Precision and F-score are ill-defined and being set to 0.0 in labels with no predicted samples. Use `zero_division` parameter to control this behavior.\n",
      "  _warn_prf(average, modifier, msg_start, len(result))\n",
      "C:\\Users\\OMEN\\anaconda3\\lib\\site-packages\\sklearn\\metrics\\_classification.py:1318: UndefinedMetricWarning: Recall and F-score are ill-defined and being set to 0.0 in labels with no true samples. Use `zero_division` parameter to control this behavior.\n",
      "  _warn_prf(average, modifier, msg_start, len(result))\n"
     ]
    }
   ],
   "source": [
    "print(classification_report(y_test, y_pred_pca, labels=[0,1]))"
   ]
  },
  {
   "cell_type": "code",
   "execution_count": 41,
   "id": "a40812fc",
   "metadata": {},
   "outputs": [
    {
     "name": "stdout",
     "output_type": "stream",
     "text": [
      "[[129  45   0   0   0]\n",
      " [ 30 195  13   0   0]\n",
      " [  1  62  30   4   0]\n",
      " [  0  29  19  15   0]\n",
      " [  0  10   8  10   0]]\n"
     ]
    }
   ],
   "source": [
    "print(confusion_matrix(y_test, y_pred_pca))"
   ]
  },
  {
   "cell_type": "code",
   "execution_count": null,
   "id": "7baad0ad",
   "metadata": {},
   "outputs": [],
   "source": []
  }
 ],
 "metadata": {
  "kernelspec": {
   "display_name": "Python 3 (ipykernel)",
   "language": "python",
   "name": "python3"
  },
  "language_info": {
   "codemirror_mode": {
    "name": "ipython",
    "version": 3
   },
   "file_extension": ".py",
   "mimetype": "text/x-python",
   "name": "python",
   "nbconvert_exporter": "python",
   "pygments_lexer": "ipython3",
   "version": "3.9.12"
  }
 },
 "nbformat": 4,
 "nbformat_minor": 5
}
